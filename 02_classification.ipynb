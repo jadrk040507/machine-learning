{
  "cells": [
    {
      "cell_type": "markdown",
      "metadata": {
        "id": "view-in-github",
        "colab_type": "text"
      },
      "source": [
        "<a href=\"https://colab.research.google.com/github/jadrk040507/machine-learning/blob/main/02_classification.ipynb\" target=\"_parent\"><img src=\"https://colab.research.google.com/assets/colab-badge.svg\" alt=\"Open In Colab\"/></a>"
      ]
    },
    {
      "cell_type": "markdown",
      "id": "ab91d34d-f046-4af2-a9fc-5f6e343f8578",
      "metadata": {
        "id": "ab91d34d-f046-4af2-a9fc-5f6e343f8578"
      },
      "source": [
        "# Classification\n",
        "\n",
        "In this notebook we will be using the MNIST dataset which is commonly used dataset in ML. It contains 70,000 images of handwritten data.\n",
        "Let's begin by importing the data."
      ]
    },
    {
      "cell_type": "code",
      "execution_count": 1,
      "id": "9cb625a1-3be1-4e81-87d6-3e9b4402e146",
      "metadata": {
        "colab": {
          "base_uri": "https://localhost:8080/"
        },
        "id": "9cb625a1-3be1-4e81-87d6-3e9b4402e146",
        "outputId": "d4292b7c-943c-4e0e-f134-4e154094fca7"
      },
      "outputs": [
        {
          "output_type": "execute_result",
          "data": {
            "text/plain": [
              "dict_keys(['data', 'target', 'frame', 'categories', 'feature_names', 'target_names', 'DESCR', 'details', 'url'])"
            ]
          },
          "metadata": {},
          "execution_count": 1
        }
      ],
      "source": [
        "from sklearn.datasets import fetch_openml\n",
        "mnist = fetch_openml(\"mnist_784\", version=1)\n",
        "mnist.keys()"
      ]
    },
    {
      "cell_type": "markdown",
      "id": "da4cf93a-9d8f-4518-a6a7-f5a761d27427",
      "metadata": {
        "id": "da4cf93a-9d8f-4518-a6a7-f5a761d27427"
      },
      "source": [
        "Datasets in Scikit-Learn have a similar structure:\n",
        "\n",
        "* A `DESCR` key describing the dataset\n",
        "* A `data` key containing an array with one row per instance and one column per feature\n",
        "* A `target` key containing an array with labels"
      ]
    },
    {
      "cell_type": "code",
      "execution_count": 2,
      "id": "ce91eb8f-631a-45e1-81ce-61ad2c4fcc28",
      "metadata": {
        "colab": {
          "base_uri": "https://localhost:8080/"
        },
        "id": "ce91eb8f-631a-45e1-81ce-61ad2c4fcc28",
        "outputId": "c68a046d-8144-4fca-eab2-1df3fcf694cc"
      },
      "outputs": [
        {
          "output_type": "stream",
          "name": "stdout",
          "text": [
            "(70000, 784) (70000,)\n"
          ]
        }
      ],
      "source": [
        "X, y = mnist[\"data\"], mnist[\"target\"]\n",
        "print(X.shape, y.shape)"
      ]
    },
    {
      "cell_type": "markdown",
      "id": "ef30ec23-de69-495c-b681-2c9f89623e49",
      "metadata": {
        "id": "ef30ec23-de69-495c-b681-2c9f89623e49"
      },
      "source": [
        "Since data describes pixel color, we will use `matplotlib` to display visually the data."
      ]
    },
    {
      "cell_type": "code",
      "execution_count": 3,
      "id": "6960fa52-a57b-4cd2-8b5e-ae6b10971827",
      "metadata": {
        "colab": {
          "base_uri": "https://localhost:8080/",
          "height": 424
        },
        "id": "6960fa52-a57b-4cd2-8b5e-ae6b10971827",
        "outputId": "38d8bcab-0766-4a21-ae51-1f7ef6e457ed"
      },
      "outputs": [
        {
          "output_type": "display_data",
          "data": {
            "text/plain": [
              "<Figure size 640x480 with 1 Axes>"
            ],
            "image/png": "[encoded data removed]"
          },
          "metadata": {}
        },
        {
          "output_type": "stream",
          "name": "stdout",
          "text": [
            "5\n"
          ]
        }
      ],
      "source": [
        "import matplotlib as mpl\n",
        "import matplotlib.pyplot as plt\n",
        "\n",
        "some_digit = X.iloc[0].values\n",
        "some_digit_image = some_digit.reshape(28, 28)\n",
        "\n",
        "plt.imshow(some_digit_image, cmap=mpl.cm.binary, interpolation=\"nearest\")\n",
        "plt.axis(\"off\")\n",
        "plt.show()\n",
        "\n",
        "print(y.iloc[0])"
      ]
    },
    {
      "cell_type": "markdown",
      "id": "1118013c-0b6f-4891-92b1-531e12416641",
      "metadata": {
        "id": "1118013c-0b6f-4891-92b1-531e12416641"
      },
      "source": [
        "Note the label is a string. We must therefore cast it into integers."
      ]
    },
    {
      "cell_type": "code",
      "execution_count": 4,
      "id": "5894af32-3ab4-413c-9bd9-d4f2d1da835a",
      "metadata": {
        "id": "5894af32-3ab4-413c-9bd9-d4f2d1da835a"
      },
      "outputs": [],
      "source": [
        "import numpy as np\n",
        "y = y.astype(np.uint8)"
      ]
    },
    {
      "cell_type": "markdown",
      "id": "c6fb4495-5bf7-43c8-9311-91b449c249e3",
      "metadata": {
        "id": "c6fb4495-5bf7-43c8-9311-91b449c249e3"
      },
      "source": [
        "Since the dataset is already shuffled randomly, we can proceed to create the different datasets for trainin and testing."
      ]
    },
    {
      "cell_type": "code",
      "execution_count": 5,
      "id": "6845d0db-c74c-40d0-a09e-88d054dd849d",
      "metadata": {
        "id": "6845d0db-c74c-40d0-a09e-88d054dd849d"
      },
      "outputs": [],
      "source": [
        "X_train, X_test, y_train, y_test = X[:60000], X[60000:], y[:60000], y[60000:]"
      ]
    },
    {
      "cell_type": "markdown",
      "id": "068ce3b4-2452-44f0-9ea2-5b3d0834ba22",
      "metadata": {
        "id": "068ce3b4-2452-44f0-9ea2-5b3d0834ba22"
      },
      "source": [
        "## Training a Binary Classifier\n",
        "\n",
        "Let's begin with a SGD classifier (Stochastic Gradient Descent).This will distinguish into two classes. But first, we need to create a single number detector, in this case $5$."
      ]
    },
    {
      "cell_type": "code",
      "execution_count": 6,
      "id": "d36c595b-7bf4-48f0-bc64-ffc898118726",
      "metadata": {
        "id": "d36c595b-7bf4-48f0-bc64-ffc898118726"
      },
      "outputs": [],
      "source": [
        "y_train_5 = (y_train == 5)\n",
        "y_test_5 = (y_test == 5)"
      ]
    },
    {
      "cell_type": "code",
      "execution_count": 7,
      "id": "f790f79b-1b4f-4d23-bbd4-edb75f1243ff",
      "metadata": {
        "colab": {
          "base_uri": "https://localhost:8080/",
          "height": 80
        },
        "id": "f790f79b-1b4f-4d23-bbd4-edb75f1243ff",
        "outputId": "ae7c7c1a-3c9b-4667-d7bd-5b4944549ce5"
      },
      "outputs": [
        {
          "output_type": "execute_result",
          "data": {
            "text/plain": [
              "SGDClassifier(random_state=42)"
            ],
            "text/html": [
              "<style>#sk-container-id-1 {\n",
              "  /* Definition of color scheme common for light and dark mode */\n",
              "  --sklearn-color-text: #000;\n",
              "  --sklearn-color-text-muted: #666;\n",
              "  --sklearn-color-line: gray;\n",
              "  /* Definition of color scheme for unfitted estimators */\n",
              "  --sklearn-color-unfitted-level-0: #fff5e6;\n",
              "  --sklearn-color-unfitted-level-1: #f6e4d2;\n",
              "  --sklearn-color-unfitted-level-2: #ffe0b3;\n",
              "  --sklearn-color-unfitted-level-3: chocolate;\n",
              "  /* Definition of color scheme for fitted estimators */\n",
              "  --sklearn-color-fitted-level-0: #f0f8ff;\n",
              "  --sklearn-color-fitted-level-1: #d4ebff;\n",
              "  --sklearn-color-fitted-level-2: #b3dbfd;\n",
              "  --sklearn-color-fitted-level-3: cornflowerblue;\n",
              "\n",
              "  /* Specific color for light theme */\n",
              "  --sklearn-color-text-on-default-background: var(--sg-text-color, var(--theme-code-foreground, var(--jp-content-font-color1, black)));\n",
              "  --sklearn-color-background: var(--sg-background-color, var(--theme-background, var(--jp-layout-color0, white)));\n",
              "  --sklearn-color-border-box: var(--sg-text-color, var(--theme-code-foreground, var(--jp-content-font-color1, black)));\n",
              "  --sklearn-color-icon: #696969;\n",
              "\n",
              "  @media (prefers-color-scheme: dark) {\n",
              "    /* Redefinition of color scheme for dark theme */\n",
              "    --sklearn-color-text-on-default-background: var(--sg-text-color, var(--theme-code-foreground, var(--jp-content-font-color1, white)));\n",
              "    --sklearn-color-background: var(--sg-background-color, var(--theme-background, var(--jp-layout-color0, #111)));\n",
              "    --sklearn-color-border-box: var(--sg-text-color, var(--theme-code-foreground, var(--jp-content-font-color1, white)));\n",
              "    --sklearn-color-icon: #878787;\n",
              "  }\n",
              "}\n",
              "\n",
              "#sk-container-id-1 {\n",
              "  color: var(--sklearn-color-text);\n",
              "}\n",
              "\n",
              "#sk-container-id-1 pre {\n",
              "  padding: 0;\n",
              "}\n",
              "\n",
              "#sk-container-id-1 input.sk-hidden--visually {\n",
              "  border: 0;\n",
              "  clip: rect(1px 1px 1px 1px);\n",
              "  clip: rect(1px, 1px, 1px, 1px);\n",
              "  height: 1px;\n",
              "  margin: -1px;\n",
              "  overflow: hidden;\n",
              "  padding: 0;\n",
              "  position: absolute;\n",
              "  width: 1px;\n",
              "}\n",
              "\n",
              "#sk-container-id-1 div.sk-dashed-wrapped {\n",
              "  border: 1px dashed var(--sklearn-color-line);\n",
              "  margin: 0 0.4em 0.5em 0.4em;\n",
              "  box-sizing: border-box;\n",
              "  padding-bottom: 0.4em;\n",
              "  background-color: var(--sklearn-color-background);\n",
              "}\n",
              "\n",
              "#sk-container-id-1 div.sk-container {\n",
              "  /* jupyter's `normalize.less` sets `[hidden] { display: none; }`\n",
              "     but bootstrap.min.css set `[hidden] { display: none !important; }`\n",
              "     so we also need the `!important` here to be able to override the\n",
              "     default hidden behavior on the sphinx rendered scikit-learn.org.\n",
              "     See: https://github.com/scikit-learn/scikit-learn/issues/21755 */\n",
              "  display: inline-block !important;\n",
              "  position: relative;\n",
              "}\n",
              "\n",
              "#sk-container-id-1 div.sk-text-repr-fallback {\n",
              "  display: none;\n",
              "}\n",
              "\n",
              "div.sk-parallel-item,\n",
              "div.sk-serial,\n",
              "div.sk-item {\n",
              "  /* draw centered vertical line to link estimators */\n",
              "  background-image: linear-gradient(var(--sklearn-color-text-on-default-background), var(--sklearn-color-text-on-default-background));\n",
              "  background-size: 2px 100%;\n",
              "  background-repeat: no-repeat;\n",
              "  background-position: center center;\n",
              "}\n",
              "\n",
              "/* Parallel-specific style estimator block */\n",
              "\n",
              "#sk-container-id-1 div.sk-parallel-item::after {\n",
              "  content: \"\";\n",
              "  width: 100%;\n",
              "  border-bottom: 2px solid var(--sklearn-color-text-on-default-background);\n",
              "  flex-grow: 1;\n",
              "}\n",
              "\n",
              "#sk-container-id-1 div.sk-parallel {\n",
              "  display: flex;\n",
              "  align-items: stretch;\n",
              "  justify-content: center;\n",
              "  background-color: var(--sklearn-color-background);\n",
              "  position: relative;\n",
              "}\n",
              "\n",
              "#sk-container-id-1 div.sk-parallel-item {\n",
              "  display: flex;\n",
              "  flex-direction: column;\n",
              "}\n",
              "\n",
              "#sk-container-id-1 div.sk-parallel-item:first-child::after {\n",
              "  align-self: flex-end;\n",
              "  width: 50%;\n",
              "}\n",
              "\n",
              "#sk-container-id-1 div.sk-parallel-item:last-child::after {\n",
              "  align-self: flex-start;\n",
              "  width: 50%;\n",
              "}\n",
              "\n",
              "#sk-container-id-1 div.sk-parallel-item:only-child::after {\n",
              "  width: 0;\n",
              "}\n",
              "\n",
              "/* Serial-specific style estimator block */\n",
              "\n",
              "#sk-container-id-1 div.sk-serial {\n",
              "  display: flex;\n",
              "  flex-direction: column;\n",
              "  align-items: center;\n",
              "  background-color: var(--sklearn-color-background);\n",
              "  padding-right: 1em;\n",
              "  padding-left: 1em;\n",
              "}\n",
              "\n",
              "\n",
              "/* Toggleable style: style used for estimator/Pipeline/ColumnTransformer box that is\n",
              "clickable and can be expanded/collapsed.\n",
              "- Pipeline and ColumnTransformer use this feature and define the default style\n",
              "- Estimators will overwrite some part of the style using the `sk-estimator` class\n",
              "*/\n",
              "\n",
              "/* Pipeline and ColumnTransformer style (default) */\n",
              "\n",
              "#sk-container-id-1 div.sk-toggleable {\n",
              "  /* Default theme specific background. It is overwritten whether we have a\n",
              "  specific estimator or a Pipeline/ColumnTransformer */\n",
              "  background-color: var(--sklearn-color-background);\n",
              "}\n",
              "\n",
              "/* Toggleable label */\n",
              "#sk-container-id-1 label.sk-toggleable__label {\n",
              "  cursor: pointer;\n",
              "  display: flex;\n",
              "  width: 100%;\n",
              "  margin-bottom: 0;\n",
              "  padding: 0.5em;\n",
              "  box-sizing: border-box;\n",
              "  text-align: center;\n",
              "  align-items: start;\n",
              "  justify-content: space-between;\n",
              "  gap: 0.5em;\n",
              "}\n",
              "\n",
              "#sk-container-id-1 label.sk-toggleable__label .caption {\n",
              "  font-size: 0.6rem;\n",
              "  font-weight: lighter;\n",
              "  color: var(--sklearn-color-text-muted);\n",
              "}\n",
              "\n",
              "#sk-container-id-1 label.sk-toggleable__label-arrow:before {\n",
              "  /* Arrow on the left of the label */\n",
              "  content: \"▸\";\n",
              "  float: left;\n",
              "  margin-right: 0.25em;\n",
              "  color: var(--sklearn-color-icon);\n",
              "}\n",
              "\n",
              "#sk-container-id-1 label.sk-toggleable__label-arrow:hover:before {\n",
              "  color: var(--sklearn-color-text);\n",
              "}\n",
              "\n",
              "/* Toggleable content - dropdown */\n",
              "\n",
              "#sk-container-id-1 div.sk-toggleable__content {\n",
              "  max-height: 0;\n",
              "  max-width: 0;\n",
              "  overflow: hidden;\n",
              "  text-align: left;\n",
              "  /* unfitted */\n",
              "  background-color: var(--sklearn-color-unfitted-level-0);\n",
              "}\n",
              "\n",
              "#sk-container-id-1 div.sk-toggleable__content.fitted {\n",
              "  /* fitted */\n",
              "  background-color: var(--sklearn-color-fitted-level-0);\n",
              "}\n",
              "\n",
              "#sk-container-id-1 div.sk-toggleable__content pre {\n",
              "  margin: 0.2em;\n",
              "  border-radius: 0.25em;\n",
              "  color: var(--sklearn-color-text);\n",
              "  /* unfitted */\n",
              "  background-color: var(--sklearn-color-unfitted-level-0);\n",
              "}\n",
              "\n",
              "#sk-container-id-1 div.sk-toggleable__content.fitted pre {\n",
              "  /* unfitted */\n",
              "  background-color: var(--sklearn-color-fitted-level-0);\n",
              "}\n",
              "\n",
              "#sk-container-id-1 input.sk-toggleable__control:checked~div.sk-toggleable__content {\n",
              "  /* Expand drop-down */\n",
              "  max-height: 200px;\n",
              "  max-width: 100%;\n",
              "  overflow: auto;\n",
              "}\n",
              "\n",
              "#sk-container-id-1 input.sk-toggleable__control:checked~label.sk-toggleable__label-arrow:before {\n",
              "  content: \"▾\";\n",
              "}\n",
              "\n",
              "/* Pipeline/ColumnTransformer-specific style */\n",
              "\n",
              "#sk-container-id-1 div.sk-label input.sk-toggleable__control:checked~label.sk-toggleable__label {\n",
              "  color: var(--sklearn-color-text);\n",
              "  background-color: var(--sklearn-color-unfitted-level-2);\n",
              "}\n",
              "\n",
              "#sk-container-id-1 div.sk-label.fitted input.sk-toggleable__control:checked~label.sk-toggleable__label {\n",
              "  background-color: var(--sklearn-color-fitted-level-2);\n",
              "}\n",
              "\n",
              "/* Estimator-specific style */\n",
              "\n",
              "/* Colorize estimator box */\n",
              "#sk-container-id-1 div.sk-estimator input.sk-toggleable__control:checked~label.sk-toggleable__label {\n",
              "  /* unfitted */\n",
              "  background-color: var(--sklearn-color-unfitted-level-2);\n",
              "}\n",
              "\n",
              "#sk-container-id-1 div.sk-estimator.fitted input.sk-toggleable__control:checked~label.sk-toggleable__label {\n",
              "  /* fitted */\n",
              "  background-color: var(--sklearn-color-fitted-level-2);\n",
              "}\n",
              "\n",
              "#sk-container-id-1 div.sk-label label.sk-toggleable__label,\n",
              "#sk-container-id-1 div.sk-label label {\n",
              "  /* The background is the default theme color */\n",
              "  color: var(--sklearn-color-text-on-default-background);\n",
              "}\n",
              "\n",
              "/* On hover, darken the color of the background */\n",
              "#sk-container-id-1 div.sk-label:hover label.sk-toggleable__label {\n",
              "  color: var(--sklearn-color-text);\n",
              "  background-color: var(--sklearn-color-unfitted-level-2);\n",
              "}\n",
              "\n",
              "/* Label box, darken color on hover, fitted */\n",
              "#sk-container-id-1 div.sk-label.fitted:hover label.sk-toggleable__label.fitted {\n",
              "  color: var(--sklearn-color-text);\n",
              "  background-color: var(--sklearn-color-fitted-level-2);\n",
              "}\n",
              "\n",
              "/* Estimator label */\n",
              "\n",
              "#sk-container-id-1 div.sk-label label {\n",
              "  font-family: monospace;\n",
              "  font-weight: bold;\n",
              "  display: inline-block;\n",
              "  line-height: 1.2em;\n",
              "}\n",
              "\n",
              "#sk-container-id-1 div.sk-label-container {\n",
              "  text-align: center;\n",
              "}\n",
              "\n",
              "/* Estimator-specific */\n",
              "#sk-container-id-1 div.sk-estimator {\n",
              "  font-family: monospace;\n",
              "  border: 1px dotted var(--sklearn-color-border-box);\n",
              "  border-radius: 0.25em;\n",
              "  box-sizing: border-box;\n",
              "  margin-bottom: 0.5em;\n",
              "  /* unfitted */\n",
              "  background-color: var(--sklearn-color-unfitted-level-0);\n",
              "}\n",
              "\n",
              "#sk-container-id-1 div.sk-estimator.fitted {\n",
              "  /* fitted */\n",
              "  background-color: var(--sklearn-color-fitted-level-0);\n",
              "}\n",
              "\n",
              "/* on hover */\n",
              "#sk-container-id-1 div.sk-estimator:hover {\n",
              "  /* unfitted */\n",
              "  background-color: var(--sklearn-color-unfitted-level-2);\n",
              "}\n",
              "\n",
              "#sk-container-id-1 div.sk-estimator.fitted:hover {\n",
              "  /* fitted */\n",
              "  background-color: var(--sklearn-color-fitted-level-2);\n",
              "}\n",
              "\n",
              "/* Specification for estimator info (e.g. \"i\" and \"?\") */\n",
              "\n",
              "/* Common style for \"i\" and \"?\" */\n",
              "\n",
              ".sk-estimator-doc-link,\n",
              "a:link.sk-estimator-doc-link,\n",
              "a:visited.sk-estimator-doc-link {\n",
              "  float: right;\n",
              "  font-size: smaller;\n",
              "  line-height: 1em;\n",
              "  font-family: monospace;\n",
              "  background-color: var(--sklearn-color-background);\n",
              "  border-radius: 1em;\n",
              "  height: 1em;\n",
              "  width: 1em;\n",
              "  text-decoration: none !important;\n",
              "  margin-left: 0.5em;\n",
              "  text-align: center;\n",
              "  /* unfitted */\n",
              "  border: var(--sklearn-color-unfitted-level-1) 1pt solid;\n",
              "  color: var(--sklearn-color-unfitted-level-1);\n",
              "}\n",
              "\n",
              ".sk-estimator-doc-link.fitted,\n",
              "a:link.sk-estimator-doc-link.fitted,\n",
              "a:visited.sk-estimator-doc-link.fitted {\n",
              "  /* fitted */\n",
              "  border: var(--sklearn-color-fitted-level-1) 1pt solid;\n",
              "  color: var(--sklearn-color-fitted-level-1);\n",
              "}\n",
              "\n",
              "/* On hover */\n",
              "div.sk-estimator:hover .sk-estimator-doc-link:hover,\n",
              ".sk-estimator-doc-link:hover,\n",
              "div.sk-label-container:hover .sk-estimator-doc-link:hover,\n",
              ".sk-estimator-doc-link:hover {\n",
              "  /* unfitted */\n",
              "  background-color: var(--sklearn-color-unfitted-level-3);\n",
              "  color: var(--sklearn-color-background);\n",
              "  text-decoration: none;\n",
              "}\n",
              "\n",
              "div.sk-estimator.fitted:hover .sk-estimator-doc-link.fitted:hover,\n",
              ".sk-estimator-doc-link.fitted:hover,\n",
              "div.sk-label-container:hover .sk-estimator-doc-link.fitted:hover,\n",
              ".sk-estimator-doc-link.fitted:hover {\n",
              "  /* fitted */\n",
              "  background-color: var(--sklearn-color-fitted-level-3);\n",
              "  color: var(--sklearn-color-background);\n",
              "  text-decoration: none;\n",
              "}\n",
              "\n",
              "/* Span, style for the box shown on hovering the info icon */\n",
              ".sk-estimator-doc-link span {\n",
              "  display: none;\n",
              "  z-index: 9999;\n",
              "  position: relative;\n",
              "  font-weight: normal;\n",
              "  right: .2ex;\n",
              "  padding: .5ex;\n",
              "  margin: .5ex;\n",
              "  width: min-content;\n",
              "  min-width: 20ex;\n",
              "  max-width: 50ex;\n",
              "  color: var(--sklearn-color-text);\n",
              "  box-shadow: 2pt 2pt 4pt #999;\n",
              "  /* unfitted */\n",
              "  background: var(--sklearn-color-unfitted-level-0);\n",
              "  border: .5pt solid var(--sklearn-color-unfitted-level-3);\n",
              "}\n",
              "\n",
              ".sk-estimator-doc-link.fitted span {\n",
              "  /* fitted */\n",
              "  background: var(--sklearn-color-fitted-level-0);\n",
              "  border: var(--sklearn-color-fitted-level-3);\n",
              "}\n",
              "\n",
              ".sk-estimator-doc-link:hover span {\n",
              "  display: block;\n",
              "}\n",
              "\n",
              "/* \"?\"-specific style due to the `<a>` HTML tag */\n",
              "\n",
              "#sk-container-id-1 a.estimator_doc_link {\n",
              "  float: right;\n",
              "  font-size: 1rem;\n",
              "  line-height: 1em;\n",
              "  font-family: monospace;\n",
              "  background-color: var(--sklearn-color-background);\n",
              "  border-radius: 1rem;\n",
              "  height: 1rem;\n",
              "  width: 1rem;\n",
              "  text-decoration: none;\n",
              "  /* unfitted */\n",
              "  color: var(--sklearn-color-unfitted-level-1);\n",
              "  border: var(--sklearn-color-unfitted-level-1) 1pt solid;\n",
              "}\n",
              "\n",
              "#sk-container-id-1 a.estimator_doc_link.fitted {\n",
              "  /* fitted */\n",
              "  border: var(--sklearn-color-fitted-level-1) 1pt solid;\n",
              "  color: var(--sklearn-color-fitted-level-1);\n",
              "}\n",
              "\n",
              "/* On hover */\n",
              "#sk-container-id-1 a.estimator_doc_link:hover {\n",
              "  /* unfitted */\n",
              "  background-color: var(--sklearn-color-unfitted-level-3);\n",
              "  color: var(--sklearn-color-background);\n",
              "  text-decoration: none;\n",
              "}\n",
              "\n",
              "#sk-container-id-1 a.estimator_doc_link.fitted:hover {\n",
              "  /* fitted */\n",
              "  background-color: var(--sklearn-color-fitted-level-3);\n",
              "}\n",
              "</style><div id=\"sk-container-id-1\" class=\"sk-top-container\"><div class=\"sk-text-repr-fallback\"><pre>SGDClassifier(random_state=42)</pre><b>In a Jupyter environment, please rerun this cell to show the HTML representation or trust the notebook. <br />On GitHub, the HTML representation is unable to render, please try loading this page with nbviewer.org.</b></div><div class=\"sk-container\" hidden><div class=\"sk-item\"><div class=\"sk-estimator fitted sk-toggleable\"><input class=\"sk-toggleable__control sk-hidden--visually\" id=\"sk-estimator-id-1\" type=\"checkbox\" checked><label for=\"sk-estimator-id-1\" class=\"sk-toggleable__label fitted sk-toggleable__label-arrow\"><div><div>SGDClassifier</div></div><div><a class=\"sk-estimator-doc-link fitted\" rel=\"noreferrer\" target=\"_blank\" href=\"https://scikit-learn.org/1.6/modules/generated/sklearn.linear_model.SGDClassifier.html\">?<span>Documentation for SGDClassifier</span></a><span class=\"sk-estimator-doc-link fitted\">i<span>Fitted</span></span></div></label><div class=\"sk-toggleable__content fitted\"><pre>SGDClassifier(random_state=42)</pre></div> </div></div></div></div>"
            ]
          },
          "metadata": {},
          "execution_count": 7
        }
      ],
      "source": [
        "from sklearn.linear_model import SGDClassifier\n",
        "\n",
        "sgd_clf = SGDClassifier(random_state=42)\n",
        "sgd_clf.fit(X_train, y_train_5)"
      ]
    },
    {
      "cell_type": "markdown",
      "id": "27d6eca9-19f4-4493-a91d-a4f9eea95761",
      "metadata": {
        "id": "27d6eca9-19f4-4493-a91d-a4f9eea95761"
      },
      "source": [
        "Now, let's use it to detect images of the number 5."
      ]
    },
    {
      "cell_type": "code",
      "execution_count": 8,
      "id": "142a082f-3802-4660-9fd3-5c1733bcefbb",
      "metadata": {
        "colab": {
          "base_uri": "https://localhost:8080/"
        },
        "id": "142a082f-3802-4660-9fd3-5c1733bcefbb",
        "outputId": "0a127ef3-cbbf-4de5-d22a-0bce8bddbe5e"
      },
      "outputs": [
        {
          "output_type": "execute_result",
          "data": {
            "text/plain": [
              "array([ True])"
            ]
          },
          "metadata": {},
          "execution_count": 8
        }
      ],
      "source": [
        "sgd_clf.predict(X_train.iloc[[0]]) # Correctly classified the first value"
      ]
    },
    {
      "cell_type": "markdown",
      "id": "13a27c8c-ac25-4721-bfa7-eab0b3c7bea8",
      "metadata": {
        "id": "13a27c8c-ac25-4721-bfa7-eab0b3c7bea8"
      },
      "source": [
        "## Performance Measures\n",
        "\n",
        "A good way to measure performance is to use cross-validation. Cross validation is a technique used to see how well does the model generalizes with unseen data. This technique basically consists on subdividing the training set into $k$ equal parts, called folds, then, train the model with $k-1$ and test it with the remainind set. This process is repeated with each fold."
      ]
    },
    {
      "cell_type": "code",
      "execution_count": 9,
      "id": "3e76ec5f-f3de-447e-a428-14b07208e0fa",
      "metadata": {
        "colab": {
          "base_uri": "https://localhost:8080/"
        },
        "id": "3e76ec5f-f3de-447e-a428-14b07208e0fa",
        "outputId": "ea197a11-14eb-441e-c718-ccbf2779acef"
      },
      "outputs": [
        {
          "output_type": "stream",
          "name": "stdout",
          "text": [
            "0.9669\n",
            "0.91625\n",
            "0.96785\n"
          ]
        }
      ],
      "source": [
        "from sklearn.model_selection import StratifiedKFold\n",
        "from sklearn.base import clone\n",
        "\n",
        "skfolds = StratifiedKFold(n_splits=3, shuffle=True, random_state=42)\n",
        "\n",
        "for train_index, test_index in skfolds.split(X_train, y_train_5):\n",
        "    clone_clf = clone(sgd_clf)\n",
        "    X_train_folds = X_train.loc[train_index]\n",
        "    y_train_folds = y_train_5.loc[train_index]\n",
        "    X_test_fold = X_train.loc[test_index]\n",
        "    y_test_fold = y_train_5.loc[test_index]\n",
        "\n",
        "    clone_clf.fit(X_train_folds, y_train_folds)\n",
        "    y_pred = clone_clf.predict(X_test_fold)\n",
        "    n_correct = sum(y_pred == y_test_fold)\n",
        "    print(n_correct / len(y_pred))"
      ]
    },
    {
      "cell_type": "markdown",
      "id": "81f131fb-eaa7-4a30-a969-6099b2660c6f",
      "metadata": {
        "id": "81f131fb-eaa7-4a30-a969-6099b2660c6f"
      },
      "source": [
        "We can use the `cross_val_score()` to evaluate the model using cross validation with three folds."
      ]
    },
    {
      "cell_type": "code",
      "execution_count": 10,
      "id": "efb5c8cb-d9e2-4f54-9125-c7752814a3f2",
      "metadata": {
        "colab": {
          "base_uri": "https://localhost:8080/"
        },
        "id": "efb5c8cb-d9e2-4f54-9125-c7752814a3f2",
        "outputId": "bfe231c1-cda3-4b69-f7d6-f4ffd07b7ec7"
      },
      "outputs": [
        {
          "output_type": "execute_result",
          "data": {
            "text/plain": [
              "array([0.95035, 0.96035, 0.9604 ])"
            ]
          },
          "metadata": {},
          "execution_count": 10
        }
      ],
      "source": [
        "from sklearn.model_selection import cross_val_score\n",
        "cross_val_score(sgd_clf, X_train, y_train_5, cv=3, scoring=\"accuracy\")"
      ]
    },
    {
      "cell_type": "markdown",
      "id": "c33501f1-d312-4f8c-b431-cc3407efd8a1",
      "metadata": {
        "id": "c33501f1-d312-4f8c-b431-cc3407efd8a1"
      },
      "source": [
        "Those are high accuracy values. But before we get too excited, let's look at a dumb classifier that classifies every image in the \"not-5\" class."
      ]
    },
    {
      "cell_type": "code",
      "execution_count": 11,
      "id": "0d98fd4d-4f64-4b20-b5c1-ec8a7789099c",
      "metadata": {
        "colab": {
          "base_uri": "https://localhost:8080/"
        },
        "id": "0d98fd4d-4f64-4b20-b5c1-ec8a7789099c",
        "outputId": "cb88cf41-cabb-49c7-c905-c73c277be287"
      },
      "outputs": [
        {
          "output_type": "execute_result",
          "data": {
            "text/plain": [
              "array([0.91125, 0.90855, 0.90915])"
            ]
          },
          "metadata": {},
          "execution_count": 11
        }
      ],
      "source": [
        "from sklearn.base import BaseEstimator\n",
        "\n",
        "class Never5Classifier(BaseEstimator):\n",
        "    def fit(self, X, y=None):\n",
        "        pass\n",
        "    def predict(self, X):\n",
        "        return np.zeros((len(X), 1), dtype=bool)\n",
        "\n",
        "never_5_clf = Never5Classifier()\n",
        "cross_val_score(never_5_clf, X_train, y_train_5, cv=3, scoring=\"accuracy\")"
      ]
    },
    {
      "cell_type": "markdown",
      "id": "bf0074fb-8258-4397-9c0d-a16401894a14",
      "metadata": {
        "id": "bf0074fb-8258-4397-9c0d-a16401894a14"
      },
      "source": [
        "It seems this criteria is not very useful in this case. This is simply because about 10% of the images are 5s, so if you alwas say an image is not a 5, you will be right about 90% of the times."
      ]
    },
    {
      "cell_type": "markdown",
      "id": "6f014b60-92b3-4a51-afcc-052e348cf1ca",
      "metadata": {
        "id": "6f014b60-92b3-4a51-afcc-052e348cf1ca"
      },
      "source": [
        "## Precision and Recall\n",
        "\n",
        "Taking a look to the confusion matrix is a better way to evaluate the performance of the model. The idea is to count the number of times class A are classified as class B, etc. It will become clearer when we visualize the matrix."
      ]
    },
    {
      "cell_type": "code",
      "execution_count": 12,
      "id": "61955d59-a285-4263-b2b3-c1b03adf8806",
      "metadata": {
        "id": "61955d59-a285-4263-b2b3-c1b03adf8806"
      },
      "outputs": [],
      "source": [
        "from sklearn.model_selection import cross_val_predict\n",
        "y_train_pred = cross_val_predict(sgd_clf, X_train, y_train_5, cv=3)"
      ]
    },
    {
      "cell_type": "code",
      "execution_count": 13,
      "id": "9adfae3d-0916-42a7-8d60-1342a63da0e4",
      "metadata": {
        "colab": {
          "base_uri": "https://localhost:8080/"
        },
        "id": "9adfae3d-0916-42a7-8d60-1342a63da0e4",
        "outputId": "2d9d99b9-db1d-4905-f80b-c6df2c8152d8"
      },
      "outputs": [
        {
          "output_type": "execute_result",
          "data": {
            "text/plain": [
              "array([[53892,   687],\n",
              "       [ 1891,  3530]])"
            ]
          },
          "metadata": {},
          "execution_count": 13
        }
      ],
      "source": [
        "from sklearn.metrics import confusion_matrix\n",
        "confusion_matrix(y_train_5, y_train_pred)"
      ]
    },
    {
      "cell_type": "markdown",
      "id": "ee742198-b85d-4aa9-885e-07cff203b4d8",
      "metadata": {
        "id": "ee742198-b85d-4aa9-885e-07cff203b4d8"
      },
      "source": [
        "Each row represents an *actual class*, while each column represents a *predicted class*. The matrix must be interpreted as:\n",
        "\n",
        "* Upper left = true negative (TN)\n",
        "* Upper right = false positives (FP)\n",
        "* Lower left = false negatives (FN)\n",
        "* Lower right = true positives (TP)"
      ]
    },
    {
      "cell_type": "markdown",
      "id": "fd7f6be9-a752-43f3-a381-be4076982dd8",
      "metadata": {
        "id": "fd7f6be9-a752-43f3-a381-be4076982dd8"
      },
      "source": [
        "From the matrix, we can obtain several metrics. The first one is *accuracy* (also called *precision*) of the positive predictions.\n",
        "\n",
        "$\n",
        "\\text{precision} = \\frac{TP}{TP+FP}\n",
        "$\n",
        "\n",
        "Note that a trivial way to have perfecto precision is to make one single positive prediction and ensure its correct ($\\text{precision}=1/1=100\\%$). This is not very useful. That's why we use precision along with another metric named *recall* (also called *sensitivity*).\n",
        "\n",
        "$\n",
        "\\text{recall} = \\frac{TP}{TP+FN}\n",
        "$\n",
        "\n",
        "Let's return to Scikit-Learn to compute these metrics."
      ]
    },
    {
      "cell_type": "code",
      "execution_count": 14,
      "id": "2bc2ef3a-3dc3-406e-9eab-373d038b0e3d",
      "metadata": {
        "colab": {
          "base_uri": "https://localhost:8080/"
        },
        "id": "2bc2ef3a-3dc3-406e-9eab-373d038b0e3d",
        "outputId": "569e2452-45dd-479c-ae65-24f54c061b2d"
      },
      "outputs": [
        {
          "output_type": "stream",
          "name": "stdout",
          "text": [
            "0.8370879772350012\n",
            "0.6511713705958311\n"
          ]
        }
      ],
      "source": [
        "from sklearn.metrics import precision_score, recall_score\n",
        "\n",
        "print(precision_score(y_train_5, y_train_pred))\n",
        "print(recall_score(y_train_5, y_train_pred))"
      ]
    },
    {
      "cell_type": "markdown",
      "id": "16340ea5-6fa1-4d91-a284-fd9c525e769d",
      "metadata": {
        "id": "16340ea5-6fa1-4d91-a284-fd9c525e769d"
      },
      "source": [
        "We should interpret the following as: \"when the model claims an image represents a 5, it is correct only 83% of the time\". Now, for recall it should be: \"the model only detects 65% of the 5s\".\n",
        "\n",
        "Sometimes it's convenient to combine precision and recall into a single metric $F_1$. The $F_1$ score is a *harmonic mean* of precision and recall. Whereas the regular mean treats all values equally, the harmonic mean gives much more weight to low values.\n",
        "\n",
        "$$\n",
        "F_1\n",
        "= \\frac{2}{\\frac{1}{\\text{precision}} + \\frac{1}{\\text{recall}}}\n",
        "= 2 \\times \\frac{\\text{precision}\\,\\times\\,\\text{recall}}\n",
        "       {\\text{precision} + \\text{recall}}\n",
        "= \\frac{TP}{TP + \\tfrac{FP + FN}{2}}\n",
        "$$\n"
      ]
    },
    {
      "cell_type": "code",
      "execution_count": 15,
      "id": "c93be80f-6498-487b-9fdd-9cb25c437a3a",
      "metadata": {
        "colab": {
          "base_uri": "https://localhost:8080/"
        },
        "id": "c93be80f-6498-487b-9fdd-9cb25c437a3a",
        "outputId": "2c95fc51-176b-4c3a-a939-53c77474c73e"
      },
      "outputs": [
        {
          "output_type": "stream",
          "name": "stdout",
          "text": [
            "0.7325171197343847\n"
          ]
        }
      ],
      "source": [
        "from sklearn.metrics import f1_score\n",
        "f1 = f1_score(y_train_5, y_train_pred)\n",
        "print(f1)"
      ]
    },
    {
      "cell_type": "markdown",
      "id": "c10b104c-5778-4805-b96b-af966a88a09c",
      "metadata": {
        "id": "c10b104c-5778-4805-b96b-af966a88a09c"
      },
      "source": [
        "\n",
        "\n",
        "## Precision/Recall Tradeoff\n",
        "The precision/recall tradeoff explains how changing a classifier’s decision threshold affects its performance: increasing the threshold raises precision by reducing false positives but lowers recall by missing more true positives. Lowering the threshold does the opposite—boosts recall but may reduce precision. Balancing the threshold helps optimize for the metric most important to the task.\n",
        "\n",
        "In Scikit-Learn you cannot set a custom threshold, yet by using `predict()` you can call is `decision_function()` method which returns a score from where we can set our own threshold."
      ]
    },
    {
      "cell_type": "code",
      "execution_count": 16,
      "id": "07de8727-91b1-4d0c-95e4-addc02636bbc",
      "metadata": {
        "colab": {
          "base_uri": "https://localhost:8080/"
        },
        "id": "07de8727-91b1-4d0c-95e4-addc02636bbc",
        "outputId": "1e59a05f-768c-4227-fef5-119e924be6e0"
      },
      "outputs": [
        {
          "output_type": "stream",
          "name": "stdout",
          "text": [
            "[2164.22030239]\n",
            "[ True]\n"
          ]
        }
      ],
      "source": [
        "some_digit = X.iloc[[0]]\n",
        "y_scores = sgd_clf.decision_function(some_digit)\n",
        "print(y_scores)\n",
        "\n",
        "threshold = 0\n",
        "y_some_digit_pred = (y_scores > threshold)\n",
        "print(y_some_digit_pred)"
      ]
    },
    {
      "cell_type": "markdown",
      "id": "1e20ba60-f4a7-4c69-aa44-2e916ffee678",
      "metadata": {
        "id": "1e20ba60-f4a7-4c69-aa44-2e916ffee678"
      },
      "source": [
        "`SGDClassifier` uses a threshold equal to $0$. But we could raise another threshold, let's say 4000."
      ]
    },
    {
      "cell_type": "code",
      "execution_count": 17,
      "id": "f10545b7-e24e-4a76-9ab9-a9e0eb540f44",
      "metadata": {
        "colab": {
          "base_uri": "https://localhost:8080/"
        },
        "id": "f10545b7-e24e-4a76-9ab9-a9e0eb540f44",
        "outputId": "30bc2cc7-376e-4c78-97b2-3f059df96263"
      },
      "outputs": [
        {
          "output_type": "stream",
          "name": "stdout",
          "text": [
            "[False]\n"
          ]
        }
      ],
      "source": [
        "threshold = 4000\n",
        "y_some_digit_pred = (y_scores > threshold)\n",
        "print(y_some_digit_pred)"
      ]
    },
    {
      "cell_type": "markdown",
      "id": "0c308bf8-f34d-425e-8a3c-3469bee07664",
      "metadata": {
        "id": "0c308bf8-f34d-425e-8a3c-3469bee07664"
      },
      "source": [
        "How do you decide which threshold to use taking into account the tradeoff? We can plot a precision-recall curve to have an insight."
      ]
    },
    {
      "cell_type": "code",
      "execution_count": 18,
      "id": "210c56d5-4fb0-44c2-8c48-8a518cfd0796",
      "metadata": {
        "colab": {
          "base_uri": "https://localhost:8080/"
        },
        "id": "210c56d5-4fb0-44c2-8c48-8a518cfd0796",
        "outputId": "f0176008-1fa1-4ffe-90e3-2f5da3798af1"
      },
      "outputs": [
        {
          "output_type": "stream",
          "name": "stdout",
          "text": [
            "[  1200.93051237 -26883.79202424 -33072.03475406 ...  13272.12718981\n",
            "  -7258.47203373 -16877.50840447]\n"
          ]
        }
      ],
      "source": [
        "y_scores = cross_val_predict(sgd_clf, X_train, y_train_5, cv=3, method=\"decision_function\")\n",
        "print(y_scores)"
      ]
    },
    {
      "cell_type": "code",
      "execution_count": 19,
      "id": "7546713b-c14c-49bb-b796-c7186d511fb6",
      "metadata": {
        "colab": {
          "base_uri": "https://localhost:8080/",
          "height": 430
        },
        "id": "7546713b-c14c-49bb-b796-c7186d511fb6",
        "outputId": "0b87edea-a1d1-4990-ee92-562aece6f55b"
      },
      "outputs": [
        {
          "output_type": "display_data",
          "data": {
            "text/plain": [
              "<Figure size 640x480 with 1 Axes>"
            ],
            "image/png": "[encoded data removed]"
          },
          "metadata": {}
        }
      ],
      "source": [
        "from sklearn.metrics import precision_recall_curve\n",
        "\n",
        "precisions, recalls, thresholds = precision_recall_curve(y_train_5, y_scores)\n",
        "\n",
        "def plot_precision_recall_vs_threshold(precisions, recalls, thresholds):\n",
        "    plt.plot(thresholds, precisions[:-1], \"b--\", label=\"Precision\")\n",
        "    plt.plot(thresholds, recalls[:-1], \"g-\", label=\"Recall\")\n",
        "    plt.legend()\n",
        "    plt.grid()\n",
        "    plt.show()\n",
        "\n",
        "plot_precision_recall_vs_threshold(precisions, recalls, thresholds)"
      ]
    },
    {
      "cell_type": "markdown",
      "id": "332716cf-3b6a-4778-9a09-01ade02cf690",
      "metadata": {
        "id": "332716cf-3b6a-4778-9a09-01ade02cf690"
      },
      "source": [
        "Another way is by plotting a locus curve."
      ]
    },
    {
      "cell_type": "code",
      "execution_count": 20,
      "id": "79d4b200-0cd3-4b96-b51f-261fcd1e770d",
      "metadata": {
        "colab": {
          "base_uri": "https://localhost:8080/",
          "height": 449
        },
        "id": "79d4b200-0cd3-4b96-b51f-261fcd1e770d",
        "outputId": "64d60bef-5eec-4f6c-b945-6b7bf4430edc"
      },
      "outputs": [
        {
          "output_type": "display_data",
          "data": {
            "text/plain": [
              "<Figure size 640x480 with 1 Axes>"
            ],
            "image/png": "[encoded data removed]"
          },
          "metadata": {}
        }
      ],
      "source": [
        "plt.plot(recalls, precisions)\n",
        "plt.xlabel(\"Recall\")\n",
        "plt.ylabel(\"Precision\")\n",
        "plt.grid()\n",
        "plt.show()"
      ]
    },
    {
      "cell_type": "markdown",
      "id": "446111a8-7d54-4d0d-b221-6353d9945ea6",
      "metadata": {
        "id": "446111a8-7d54-4d0d-b221-6353d9945ea6"
      },
      "source": [
        "The selected combinationdepends on your project. In some cases you cannot risk on missclassifying, while on others you might want to prioritize detection."
      ]
    },
    {
      "cell_type": "code",
      "execution_count": 21,
      "id": "85df70a4-eeff-4c06-acb3-fb793a503849",
      "metadata": {
        "colab": {
          "base_uri": "https://localhost:8080/"
        },
        "id": "85df70a4-eeff-4c06-acb3-fb793a503849",
        "outputId": "86388435-5cc9-443d-a657-b2b0bf9d2a9f"
      },
      "outputs": [
        {
          "output_type": "stream",
          "name": "stdout",
          "text": [
            "0.9000345901072293\n",
            "0.4799852425751706\n"
          ]
        }
      ],
      "source": [
        "threshold_90_precision = thresholds[np.argmax(precisions >= 0.90)]\n",
        "y_train_pred_90 = (y_scores >= threshold_90_precision)\n",
        "\n",
        "print(precision_score(y_train_5, y_train_pred_90))\n",
        "print(recall_score(y_train_5, y_train_pred_90))"
      ]
    },
    {
      "cell_type": "markdown",
      "id": "5775adbc-5d7b-4703-bee8-f92bdd80372d",
      "metadata": {
        "id": "5775adbc-5d7b-4703-bee8-f92bdd80372d"
      },
      "source": [
        "Not so fast! A high precision is not very useful if its recall is too low!\n",
        "\n",
        "## The ROC Curve\n",
        "\n",
        "The *receiver operating characteristic* (ROC) curve is similar to the precision/recall curve, the ROC curve plots the *true positive rate* (recall) against the *false positive rate*. The FPR is the ratio of instances incorrectly classified as positive. It is equal to one minus de *true negative rate*, which is the ratio of negative instances that are correctly classified as negative. The TNR is also called *specificity*.\n",
        "Hence, the ROC plots *sensitivity* (recall) against 1-*specificity*."
      ]
    },
    {
      "cell_type": "code",
      "execution_count": 22,
      "id": "0fa8c0d0-9a88-4175-834a-51ea9f92b6be",
      "metadata": {
        "colab": {
          "base_uri": "https://localhost:8080/",
          "height": 449
        },
        "id": "0fa8c0d0-9a88-4175-834a-51ea9f92b6be",
        "outputId": "13540e63-2e43-4487-8967-94e5b23a544d"
      },
      "outputs": [
        {
          "output_type": "display_data",
          "data": {
            "text/plain": [
              "<Figure size 640x480 with 1 Axes>"
            ],
            "image/png": "[encoded data removed]"
          },
          "metadata": {}
        }
      ],
      "source": [
        "from sklearn.metrics import roc_curve\n",
        "fpr, tpr, thresholds = roc_curve(y_train_5, y_scores)\n",
        "\n",
        "def plot_roc_curve(fpr, tpr, label=None):\n",
        "    plt.plot(fpr, tpr, linewidth=2, label=label)\n",
        "    plt.plot([0,1],[0,1], \"k--\")\n",
        "    plt.xlabel(\"False Positive Rate\")\n",
        "    plt.ylabel(\"True Positive Rate (Recall)\")\n",
        "    plt.grid()\n",
        "    plt.show()\n",
        "\n",
        "plot_roc_curve(fpr, tpr, label=None)"
      ]
    },
    {
      "cell_type": "markdown",
      "id": "c00fded8-0b62-4f65-8c62-828f7ae3f95a",
      "metadata": {
        "id": "c00fded8-0b62-4f65-8c62-828f7ae3f95a"
      },
      "source": [
        "One way to compare classifiers is to measure the *area under the curve* (AUC). A perfect classifier will have a ROC AUC equal to 1, whereas a purely random classifier will have a ROC AUC equal to 0.5.\n",
        "\n",
        "Let's try training a `RandomForestClassifier` and compare its ROC curve and ROC AUC score to `SGDClassifier`."
      ]
    },
    {
      "cell_type": "code",
      "execution_count": 23,
      "id": "e4a0153a-48d1-48af-86d3-f20919a01483",
      "metadata": {
        "id": "e4a0153a-48d1-48af-86d3-f20919a01483"
      },
      "outputs": [],
      "source": [
        "from sklearn.ensemble import RandomForestClassifier\n",
        "\n",
        "forest_clf = RandomForestClassifier(random_state=42)\n",
        "y_probas_forest = cross_val_predict(forest_clf, X_train, y_train_5, cv=3, method=\"predict_proba\")"
      ]
    },
    {
      "cell_type": "code",
      "execution_count": 24,
      "id": "d63aa931-46c8-432c-9431-be8cb470febf",
      "metadata": {
        "id": "d63aa931-46c8-432c-9431-be8cb470febf"
      },
      "outputs": [],
      "source": [
        "y_scores_forest = y_probas_forest[:, 1]\n",
        "fpr_forest, tpr_forest, threshold_forest = roc_curve(y_train_5, y_scores_forest)"
      ]
    },
    {
      "cell_type": "code",
      "execution_count": 25,
      "id": "fdea1477-a491-4aca-9bc7-b60624efec31",
      "metadata": {
        "colab": {
          "base_uri": "https://localhost:8080/",
          "height": 449
        },
        "id": "fdea1477-a491-4aca-9bc7-b60624efec31",
        "outputId": "262fec54-2087-4824-ad2f-06852b3be05b"
      },
      "outputs": [
        {
          "output_type": "display_data",
          "data": {
            "text/plain": [
              "<Figure size 640x480 with 1 Axes>"
            ],
            "image/png": "[encoded data removed]"
          },
          "metadata": {}
        }
      ],
      "source": [
        "plt.plot(fpr, tpr, \"b:\", label=\"SGD\")\n",
        "plot_roc_curve(fpr_forest, tpr_forest, \"Random Forest\")\n",
        "# plt.legend(loc=\"lower right\")\n",
        "plt.show()"
      ]
    },
    {
      "cell_type": "markdown",
      "id": "abb3e913-6652-4e30-86a8-363ba138d27d",
      "metadata": {
        "id": "abb3e913-6652-4e30-86a8-363ba138d27d"
      },
      "source": [
        "## Multiclass Classification\n",
        "\n",
        "Some algorithms (such as Random Forest or naive Bayes classifiers) are capable of handling multiple classes directly. Others (such as Support Vector Machine classifiers can distinguish or Linear classifiers) are strictly binary.\n",
        "\n",
        "There are several strategies to do multinomial classification:\n",
        "\n",
        "1. One-Versus-All (OvA): generates a decision score from each classifier and then chooses the class with highest score.\n",
        "2. One-Versus-One (OvO): trains a binary classifier for every pair of combinations. If there are $N$ classes, you will need to train $N\\times(N-1)/2$ classifiers."
      ]
    },
    {
      "cell_type": "code",
      "execution_count": 26,
      "id": "f4ee97a2-a0ed-40cc-bc1d-708065567450",
      "metadata": {
        "id": "f4ee97a2-a0ed-40cc-bc1d-708065567450",
        "colab": {
          "base_uri": "https://localhost:8080/"
        },
        "outputId": "03c3283c-6369-4559-9155-8747a1e3540e"
      },
      "outputs": [
        {
          "output_type": "execute_result",
          "data": {
            "text/plain": [
              "array([3], dtype=uint8)"
            ]
          },
          "metadata": {},
          "execution_count": 26
        }
      ],
      "source": [
        "sgd_clf.fit(X_train, y_train)\n",
        "sgd_clf.predict(some_digit)"
      ]
    },
    {
      "cell_type": "markdown",
      "id": "28cf9db8-a686-42b9-a8ac-56ec04c1e0d4",
      "metadata": {
        "id": "28cf9db8-a686-42b9-a8ac-56ec04c1e0d4"
      },
      "source": [
        "In this case `SGDClassifier` automatically runs OvA and detects that there are 10 classes. Let's see the decision function for `some_digit` (remember this was the number 5)."
      ]
    },
    {
      "cell_type": "code",
      "execution_count": 27,
      "id": "81a5359d-d008-40a9-9257-62735365fee3",
      "metadata": {
        "id": "81a5359d-d008-40a9-9257-62735365fee3",
        "colab": {
          "base_uri": "https://localhost:8080/"
        },
        "outputId": "18812144-c237-4567-cfc3-4a2c4e679ead"
      },
      "outputs": [
        {
          "output_type": "stream",
          "name": "stdout",
          "text": [
            "[[-31893.03095419 -34419.69069632  -9530.63950739   1823.73154031\n",
            "  -22320.14822878  -1385.80478895 -26188.91070951 -16147.51323997\n",
            "   -4604.35491274 -12050.767298  ]]\n",
            "3\n",
            "[0 1 2 3 4 5 6 7 8 9]\n",
            "5\n"
          ]
        }
      ],
      "source": [
        "some_digit_scores = sgd_clf.decision_function(some_digit)\n",
        "print(some_digit_scores)\n",
        "print(np.argmax(some_digit_scores))\n",
        "\n",
        "print(sgd_clf.classes_)\n",
        "print(sgd_clf.classes_[5])"
      ]
    },
    {
      "cell_type": "markdown",
      "id": "75959b72-d179-4cce-a71b-5df40bdc95c6",
      "metadata": {
        "id": "75959b72-d179-4cce-a71b-5df40bdc95c6"
      },
      "source": [
        "If you want to force Scikit-Learn to use OvO or OvA, you can pass the function under `OneVsOneClassifier` or `OneVsRestClassifier`."
      ]
    },
    {
      "cell_type": "code",
      "execution_count": 28,
      "id": "b7de710e-de58-4792-a586-b53883e992b8",
      "metadata": {
        "id": "b7de710e-de58-4792-a586-b53883e992b8",
        "colab": {
          "base_uri": "https://localhost:8080/"
        },
        "outputId": "f09e5a8e-b69d-4ae0-b146-c10b09746fdb"
      },
      "outputs": [
        {
          "output_type": "execute_result",
          "data": {
            "text/plain": [
              "array([5], dtype=uint8)"
            ]
          },
          "metadata": {},
          "execution_count": 28
        }
      ],
      "source": [
        "from sklearn.multiclass import OneVsOneClassifier\n",
        "ovo_clf = OneVsOneClassifier(SGDClassifier(random_state=42))\n",
        "ovo_clf.fit(X_train, y_train)\n",
        "ovo_clf.predict(some_digit)"
      ]
    },
    {
      "cell_type": "markdown",
      "id": "30b47204-3d93-49b7-b70a-36bfae464ac6",
      "metadata": {
        "id": "30b47204-3d93-49b7-b70a-36bfae464ac6"
      },
      "source": [
        "Training the model with Random Forest is just as easy. Since the latter can fit multiclass models the OvO/OvA class are not necessary."
      ]
    },
    {
      "cell_type": "code",
      "execution_count": 29,
      "id": "23a28055-463d-49bc-a026-efe8311f590e",
      "metadata": {
        "id": "23a28055-463d-49bc-a026-efe8311f590e",
        "colab": {
          "base_uri": "https://localhost:8080/"
        },
        "outputId": "e436c105-5774-47a0-8979-7e9957846f07"
      },
      "outputs": [
        {
          "output_type": "execute_result",
          "data": {
            "text/plain": [
              "array([5], dtype=uint8)"
            ]
          },
          "metadata": {},
          "execution_count": 29
        }
      ],
      "source": [
        "forest_clf.fit(X_train, y_train)\n",
        "forest_clf.predict(some_digit)"
      ]
    },
    {
      "cell_type": "code",
      "execution_count": 30,
      "id": "55801238-e9db-4b8f-8dfc-8db1c53a7517",
      "metadata": {
        "id": "55801238-e9db-4b8f-8dfc-8db1c53a7517",
        "colab": {
          "base_uri": "https://localhost:8080/"
        },
        "outputId": "95a4907f-f18f-4a67-b071-02c101826982"
      },
      "outputs": [
        {
          "output_type": "execute_result",
          "data": {
            "text/plain": [
              "array([0.87365, 0.85835, 0.8689 ])"
            ]
          },
          "metadata": {},
          "execution_count": 30
        }
      ],
      "source": [
        "forest_clf.predict_proba(some_digit)\n",
        "cross_val_score(sgd_clf, X_train, y_train, cv=3, scoring=\"accuracy\")"
      ]
    },
    {
      "cell_type": "markdown",
      "id": "9d943caf-df5e-4ad1-8c2e-8f20e7b525b7",
      "metadata": {
        "id": "9d943caf-df5e-4ad1-8c2e-8f20e7b525b7"
      },
      "source": [
        "## Error Analysis\n",
        "\n",
        "Let's analyze the type of error the models make."
      ]
    },
    {
      "cell_type": "code",
      "execution_count": 31,
      "id": "c18917f8-e77b-48d4-9683-869ccf1dc6dc",
      "metadata": {
        "id": "c18917f8-e77b-48d4-9683-869ccf1dc6dc",
        "colab": {
          "base_uri": "https://localhost:8080/"
        },
        "outputId": "ad9007d8-ff84-4bc5-b8b1-0ceece1c3e04"
      },
      "outputs": [
        {
          "output_type": "stream",
          "name": "stdout",
          "text": [
            "[[5635    0   61   10   16   50   46    7   66   32]\n",
            " [   3 6393   95   21   16   47   15   27  109   16]\n",
            " [  72   56 5174   89   69   39  163   66  212   18]\n",
            " [  58   32  217 4941   23  441   32   56  216  115]\n",
            " [  11   26   46    6 5298   26   73   32   87  237]\n",
            " [  68   23   58  150   83 4606  174   26  152   81]\n",
            " [  40   13   56    6   22  113 5625    5   36    2]\n",
            " [  23   24  103   36  124   40   10 5228   75  602]\n",
            " [  40  101  158  122   49  457   77   35 4666  146]\n",
            " [  33   18   66   83  515  127    4  485  166 4452]]\n"
          ]
        }
      ],
      "source": [
        "y_train_pred = cross_val_predict(sgd_clf, X_train, y_train, cv=3)\n",
        "conf_mx = confusion_matrix(y_train, y_train_pred)\n",
        "print(conf_mx)"
      ]
    },
    {
      "cell_type": "markdown",
      "id": "1bcd3e3b-10d7-4369-bd69-38d1c19db236",
      "metadata": {
        "id": "1bcd3e3b-10d7-4369-bd69-38d1c19db236"
      },
      "source": [
        "Let's try visualizing the confusion matrix."
      ]
    },
    {
      "cell_type": "code",
      "execution_count": 32,
      "id": "f7a098d3-5b4a-4663-852e-834d647bf504",
      "metadata": {
        "id": "f7a098d3-5b4a-4663-852e-834d647bf504",
        "colab": {
          "base_uri": "https://localhost:8080/",
          "height": 437
        },
        "outputId": "f8ebb995-1745-4f88-f86f-eecfd902887a"
      },
      "outputs": [
        {
          "output_type": "display_data",
          "data": {
            "text/plain": [
              "<Figure size 480x480 with 1 Axes>"
            ],
            "image/png": "[encoded data removed]"
          },
          "metadata": {}
        }
      ],
      "source": [
        "plt.matshow(conf_mx, cmap=plt.cm.gray)\n",
        "plt.show()"
      ]
    },
    {
      "cell_type": "markdown",
      "id": "4e2df234-5e2f-420c-8bc8-ee97b28b570b",
      "metadata": {
        "id": "4e2df234-5e2f-420c-8bc8-ee97b28b570b"
      },
      "source": [
        "Let's plot it again, but now dividing the count values wiht its mean."
      ]
    },
    {
      "cell_type": "code",
      "execution_count": 33,
      "id": "b5956bb8-3cef-4a67-b05c-5dc44d4e78e9",
      "metadata": {
        "id": "b5956bb8-3cef-4a67-b05c-5dc44d4e78e9",
        "colab": {
          "base_uri": "https://localhost:8080/",
          "height": 437
        },
        "outputId": "efffc4a2-c4bb-4186-dba3-ede915b7c924"
      },
      "outputs": [
        {
          "output_type": "display_data",
          "data": {
            "text/plain": [
              "<Figure size 480x480 with 1 Axes>"
            ],
            "image/png": "[encoded data removed]"
          },
          "metadata": {}
        }
      ],
      "source": [
        "row_sums = conf_mx.sum(axis=1, keepdims=True)\n",
        "norm_conf_mx = conf_mx/row_sums\n",
        "\n",
        "np.fill_diagonal(norm_conf_mx, 0)\n",
        "plt.matshow(norm_conf_mx, cmap=plt.cm.gray)\n",
        "plt.show()"
      ]
    },
    {
      "cell_type": "markdown",
      "id": "7453ab87-043d-40cb-adb3-606a9edcd90c",
      "metadata": {
        "id": "7453ab87-043d-40cb-adb3-606a9edcd90c"
      },
      "source": [
        "## Multilabel Classification\n",
        "\n",
        "Sometimes we do not only want to classify to a single category. Instead, there are cases we want to assign multiple classifications per instance, this is called multilabel classification. One example of this are multiple face recognition on photos."
      ]
    },
    {
      "cell_type": "code",
      "execution_count": 34,
      "id": "0197c749-50d1-4f56-a71d-063bfb5257ca",
      "metadata": {
        "id": "0197c749-50d1-4f56-a71d-063bfb5257ca",
        "colab": {
          "base_uri": "https://localhost:8080/"
        },
        "outputId": "74b8d4e2-d36c-41bc-93c0-5c8dc85a6d29"
      },
      "outputs": [
        {
          "output_type": "execute_result",
          "data": {
            "text/plain": [
              "array([[False,  True]])"
            ]
          },
          "metadata": {},
          "execution_count": 34
        }
      ],
      "source": [
        "from sklearn.neighbors import KNeighborsClassifier\n",
        "\n",
        "y_train_large = (y_train >= 7)\n",
        "y_train_odd = (y_train % 2 == 1)\n",
        "y_multilabel = np.c_[y_train_large, y_train_odd]\n",
        "\n",
        "knn_classifier = KNeighborsClassifier()\n",
        "knn_classifier.fit(X_train, y_multilabel)\n",
        "knn_classifier.predict(some_digit)"
      ]
    },
    {
      "cell_type": "markdown",
      "id": "7b358bee-a4d3-489e-8e07-5be5bc8b7524",
      "metadata": {
        "id": "7b358bee-a4d3-489e-8e07-5be5bc8b7524"
      },
      "source": [
        "Let's use the $F_1$ score to asses the model."
      ]
    },
    {
      "cell_type": "code",
      "execution_count": 35,
      "id": "1f9ce406-0d30-4a70-8abd-e40f8535e292",
      "metadata": {
        "id": "1f9ce406-0d30-4a70-8abd-e40f8535e292",
        "colab": {
          "base_uri": "https://localhost:8080/"
        },
        "outputId": "db220c98-a611-4355-dcd2-aeea6cc580e9"
      },
      "outputs": [
        {
          "output_type": "execute_result",
          "data": {
            "text/plain": [
              "0.9764102655606048"
            ]
          },
          "metadata": {},
          "execution_count": 35
        }
      ],
      "source": [
        "y_train_knn_pred = cross_val_predict(knn_classifier, X_train, y_multilabel, cv=3)\n",
        "f1_score(y_multilabel, y_train_knn_pred, average=\"macro\")"
      ]
    }
  ],
  "metadata": {
    "colab": {
      "provenance": [],
      "include_colab_link": true
    },
    "kernelspec": {
      "display_name": "Python 3",
      "name": "python3"
    },
    "language_info": {
      "name": "python"
    }
  },
  "nbformat": 4,
  "nbformat_minor": 5
}